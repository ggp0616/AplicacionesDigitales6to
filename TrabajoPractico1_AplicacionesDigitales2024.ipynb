{
  "nbformat": 4,
  "nbformat_minor": 0,
  "metadata": {
    "colab": {
      "provenance": []
    },
    "kernelspec": {
      "name": "python3",
      "display_name": "Python 3"
    },
    "language_info": {
      "name": "python"
    }
  },
  "cells": [
    {
      "cell_type": "markdown",
      "source": [
        "# **Python: Repaso de conocimientos**\n",
        "\n",
        "##Variables en Python\n",
        "En Python, existen unas variables llamadas primitivas, simples o primarias. Conocer los tipos de datos nos ayuda a identificar las variables y para que sirven, de ahí la importancia de conocer para cada variable su tipo de dato python. estos tipos primarios o primitivos, son la base a partir de la cual se construyen todas las demás complejas.\n",
        "\n",
        "Es importante identificar el tipo de\n",
        " dato que se debe recoger en nuestra variable para diseñar un programa que resuelve bien nuestro problema;\n",
        "\n",
        "Tipo de dato Int o Entero en Python\n",
        "El tipo de dato más simple es int. Es un dato numérico que representa los números enteros (sin coma). El ejemplo lo es la imagen de arriba, veamos algún ejemplo más:\n",
        "\n",
        "altura = 190\n",
        "\n",
        "edad = 30\n",
        "\n",
        "Float o decimales en programación\n",
        "Este tipo de dato hace referencia a valores con decimales (o con coma). En Python se coloca un punto para identificar la parte entera y la decimal.\n",
        "\n",
        "Para construir valores con decimales, se utiliza el punto (.). Un error muy común es utilizar la coma; Python fallará si quieres dar valores con comas:\n",
        "\n",
        "altura = 1.90 # Ejemplo de altura en metros\n",
        "\n",
        "salario = 1549,50 # Esto está mal, se usa el punto\n",
        "\n",
        "salario = 1549.50 # Ahora sí :)\n",
        "\n",
        "Bool o booleanos en Python\n",
        "Son los tipos de datos más peculiares para las personas que se inician en la programación. Simplemente, por ahora debes conocer que puedes crear variables dentro del programa con valores de 'True' o 'False'.\n",
        "\n",
        "esteAnyoEsBisiesto = False\n",
        "\n",
        "esMiTurnoEnPokemon = False\n",
        "\n",
        "Str o string (cadena en inglés)\n",
        "Siendo estrictos, no son tipo de datos simples, sino complejos. Sin embargo, debido a su uso a la hora de empezar a practicar los colocamos aquí.\n",
        "\n",
        "Los textos en programación son cadenas de caracteres. Así, si creamos una variable llamada ‘Python’ o «Python» estamos creando un tren con los siguientes vagones: P + y + t + h + o + n\n",
        "\n",
        "Con estos ingredientes identificados y dominados, podremos empezar a hacer ejercicios identificando las variables de buena manera.\n",
        "\n",
        "\n",
        "Como ves, el tipo de dato que devuelve la última demuestra que podemos intentar convertir entre los diferentes tipos de datos.\n",
        "\n",
        "Vamos con los ejercicios de las Variables en Python para practicar. Recuerda que estos ejercicios pertenecen a nuestra estupenda guía de Ejercicios de Programación en Python. ¡Practiquemos!\n"
      ],
      "metadata": {
        "id": "ki_rN0M53yjz"
      }
    },
    {
      "cell_type": "markdown",
      "source": [],
      "metadata": {
        "id": "ZTXkgAbRClpV"
      }
    },
    {
      "cell_type": "markdown",
      "source": [
        "## **Ejercicios de Variables Python**\n",
        "\n",
        "\n"
      ],
      "metadata": {
        "id": "HTEY5RhvUPlY"
      }
    },
    {
      "cell_type": "markdown",
      "source": [
        "###Ejercicio 2\n",
        "Crea una variable numérica tipo int. Después, multiplica por dos y divídelo entre 1.5. Debes hacerlo en dos pasos.\n",
        "\n",
        "Revisa el tipo de dato después de las operaciones para finalizar. Utiliza la función type( variable ) dentro del print( )\n"
      ],
      "metadata": {
        "id": "iWOW2ndHUuDT"
      }
    },
    {
      "cell_type": "markdown",
      "source": [],
      "metadata": {
        "id": "CnuqC42aCpxs"
      }
    },
    {
      "cell_type": "code",
      "source": [
        "\n",
        "i= 6\n",
        "int(i)\n",
        "n=(i*2)/1.5\n",
        "print(type(i))\n",
        "print(n)"
      ],
      "metadata": {
        "colab": {
          "base_uri": "https://localhost:8080/"
        },
        "id": "U_qA5PQXCq98",
        "outputId": "308c2e27-6441-4cf1-8c98-d73220b88979"
      },
      "execution_count": null,
      "outputs": [
        {
          "output_type": "stream",
          "name": "stdout",
          "text": [
            "<class 'int'>\n",
            "8.0\n"
          ]
        }
      ]
    },
    {
      "cell_type": "markdown",
      "source": [
        "###Ejercicio 1\n",
        "Escribir ‘Hola Mundo!‘ por pantalla.\n"
      ],
      "metadata": {
        "id": "ZO02NtkGUYE6"
      }
    },
    {
      "cell_type": "code",
      "source": [
        "print (\"Hola Mundo!\")"
      ],
      "metadata": {
        "id": "yMGY2SKzUyZS",
        "colab": {
          "base_uri": "https://localhost:8080/"
        },
        "outputId": "4988e5b8-961a-491c-e9a3-743cb036da3d"
      },
      "execution_count": null,
      "outputs": [
        {
          "output_type": "stream",
          "name": "stdout",
          "text": [
            "Hola Mundo!\n"
          ]
        }
      ]
    },
    {
      "cell_type": "markdown",
      "source": [
        "### Ejercicio 3\n",
        "Calcular los intereses que tendrás si inviertes 100.000€ (capitalInicial) a un 2% (interes) de interés en 10 años (ciclos) debido a la fórmula del interés compuesto.\n",
        "\n",
        "Pista: Tienes un montón de información al respecto en Internet. Localiza la fórmula del interés compuesto.\n",
        "\n",
        "Paso 2: Intenta hacer que pida todos los datos al usuario. Utiliza la función input()."
      ],
      "metadata": {
        "id": "Amp4mYc6U_rh"
      }
    },
    {
      "cell_type": "code",
      "source": [
        "inversion = float(input(\"Ingresa un monto \"))\n",
        "interes = float(input(\"Ingresa el interes \"))\n",
        "años = float(input(\"Ingresa los tiempos \"))\n",
        "\n",
        "print(inversion*(1+interes)**años)"
      ],
      "metadata": {
        "id": "eTFifdjIVOSM",
        "colab": {
          "base_uri": "https://localhost:8080/"
        },
        "outputId": "9708388e-b946-4aa4-d8d8-03c733b51cba"
      },
      "execution_count": null,
      "outputs": [
        {
          "output_type": "stream",
          "name": "stdout",
          "text": [
            "Ingresa un monto 100000\n",
            "Ingresa el interes 0.02\n",
            "Ingresa los tiempos 10\n",
            "121899.44199947573\n"
          ]
        }
      ]
    },
    {
      "cell_type": "markdown",
      "source": [
        "### Ejercicio 4\n",
        "Desarrollar un programa que calcula el voltaje que cae en una resistencia cuando los valores de la intensidad y la resistencia son conocidos.\n",
        "\n",
        "La Ley de Ohm nos indica que voltaje = intensidad * resistencia\n",
        "\n",
        "Ejemplo: Para un valor de la intensidad igual a 3 amperios y un valor de la resistencia de 4 ohmios el valor del voltaje es de 12 voltios.\n",
        "\n",
        "Nota: Son datos y valores ficticios para practicar. Puede haber erratas de contexto."
      ],
      "metadata": {
        "id": "en6RaZRaVThH"
      }
    },
    {
      "cell_type": "code",
      "source": [
        "i = float(input(\"Ingresa la intensidad \"))\n",
        "r = float(input(\"Ingresa la resistencia \"))\n",
        "print(i*r)"
      ],
      "metadata": {
        "id": "KJ4AnHrRVugG",
        "colab": {
          "base_uri": "https://localhost:8080/"
        },
        "outputId": "f9c9f135-1448-4ef4-b074-368b8e9ff144"
      },
      "execution_count": null,
      "outputs": [
        {
          "output_type": "stream",
          "name": "stdout",
          "text": [
            "Ingresa la intensidad 3\n",
            "Ingresa la resistencia 4\n",
            "12.0\n"
          ]
        }
      ]
    },
    {
      "cell_type": "markdown",
      "source": [
        "###Ejercicio 5\n",
        "Esta vez, te pedimos calcular el factorial de un número.\n",
        "\n",
        "Ejemplo:\n",
        "\n",
        "5! = 5 x 4 x 3 x 2 x 1 y el resultado es 120.\n",
        "\n",
        "2! = 2 x 1 esta vez, el resultado es 2.\n",
        "\n",
        "10! = 10 x 9 x 8 x 7 x 6 x 5 x 4 x 3 x 2 x 1 resultado: 3628800."
      ],
      "metadata": {
        "id": "QJvZLACRVtnp"
      }
    },
    {
      "cell_type": "code",
      "source": [
        "var = 1\n",
        "fact = int(input(\"Ingresa un numero \"))\n",
        "for i in range(1,fact+1):\n",
        "    var = var*i\n",
        "print(var)"
      ],
      "metadata": {
        "id": "u5F3Rg97V7mG",
        "colab": {
          "base_uri": "https://localhost:8080/"
        },
        "outputId": "362d97cc-9eff-4702-b6a7-0a3f0c66a850"
      },
      "execution_count": null,
      "outputs": [
        {
          "output_type": "stream",
          "name": "stdout",
          "text": [
            "Ingresa un numero 5\n",
            "120\n"
          ]
        }
      ]
    },
    {
      "cell_type": "markdown",
      "source": [
        "### Ejercicio 6\n",
        "Para un equipo de Analítica Avanzada de Google nos piden calcular el CTR de nuestra campaña de Márketing para venta de cursos. Nos dan la siguiente información: impresiones, clicks, tiempoPorSession y CPC. Investiga qué son cada elemento y cómo se calcula el CTR.\n",
        "\n",
        "Nota: Son datos y valores ficticios para practicar."
      ],
      "metadata": {
        "id": "wR7RnipWV82j"
      }
    },
    {
      "cell_type": "markdown",
      "source": [
        "CTR se calcula clicks dividido por impresiones, multiplicado por 100 y el CPC se calcula con el presupuesto total dividido por la cantidad de clicks ."
      ],
      "metadata": {
        "id": "o6fFaxO551_l"
      }
    },
    {
      "cell_type": "code",
      "source": [
        "i = float(input(\"Ingresa nro de impresiones \"))\n",
        "c = float(input(\"Ingresa nro de clicks \"))\n",
        "t = float(input(\"Ingresa los tiempos \"))\n",
        "\n",
        "ctr = (c/i)*100\n",
        "print(ctr)"
      ],
      "metadata": {
        "id": "ojyMhgAzV8Xl",
        "colab": {
          "base_uri": "https://localhost:8080/"
        },
        "outputId": "da29d68f-2386-4ef6-9c8e-e9278380b7a9"
      },
      "execution_count": null,
      "outputs": [
        {
          "output_type": "stream",
          "name": "stdout",
          "text": [
            "Ingresa nro de impresiones 100\n",
            "Ingresa nro de clicks 5\n",
            "Ingresa los tiempos 1\n",
            "5.0\n"
          ]
        }
      ]
    },
    {
      "cell_type": "markdown",
      "source": [
        "##*Condicionales*"
      ],
      "metadata": {
        "id": "9dfqY8r5WWdn"
      }
    },
    {
      "cell_type": "markdown",
      "source": [
        "###Condicionales if elif else en Python\n",
        "En Python al igual que en otros lenguajes de programación podemos dirigir el camino del programa según el criterio de uno a varias condiciones. Ser capaces de dirigir nuestro software es clave, ya que dependiendo de algunas condiciones conseguimos proteger nuestro programa de ciertos fallos.\n",
        "Ejemplos de uso de if en Python\n",
        "Entiende que los programas siempre se ejecutan de arriba hacia abajo, de manera secuencial. Es por eso que hay veces que tenemos que entender que el programa puede ir por algunos caminos diferentes, veamos 3 ejemplos claros:\n",
        "\n",
        "* Decidir si pasa alguien, según si es mayor de edad o no\n",
        "* Pagar un precio u otro a la hora de entrar con el carné de familia numerosa al transporte público\n",
        "* Decidir quien ataca en un combate de turnos (por ejemplo, en Pokemon)\n",
        "\n",
        "Todas estas decisiones, son diseñadas de antemano para que cuando suceda haya sido pensada de antemano; sino, el sistema no funcionará o peor aún, dará un pantallazo azul. En esencia, las condicionales en Python o en cualquier lenguaje de programación buscan identificar los caminos posibles para dejarlos preparados de antemano y saber qué hacer.\n",
        "Para dominar las condiciones en Python es clave manerar los operadores aritméticos, lógicos y de programación; ya que realmente las estructuras condicionales en programación se compone de preguntas que son o ciertas o falsas.\n",
        "Si te hace falta repasar, no olvides que en la materia Programación, dentro del capitulo de \"Algebra de Boole\", analizamos cada uno de los operadores aritmeticos, logicos y booleanos que se utilizan dentro de la programación."
      ],
      "metadata": {
        "id": "MUXkvfrGWa2N"
      }
    },
    {
      "cell_type": "markdown",
      "source": [
        "## Ejercicios de Condicionales"
      ],
      "metadata": {
        "id": "abNCXV2ZXr-g"
      }
    },
    {
      "cell_type": "markdown",
      "source": [
        "###Ejercicio 1\n",
        "Determinar si alguien es menor de edad o no. Pide al usuario la edad por pantalla e imprime por pantalla."
      ],
      "metadata": {
        "id": "phbMJeS-Xvgc"
      }
    },
    {
      "cell_type": "code",
      "source": [
        "a = int(input(\"Ingresa tu edad \"))\n",
        "if a>18:\n",
        "    print(\"Sos legal\")\n",
        "else:\n",
        "    print(\"Sos menor\")"
      ],
      "metadata": {
        "id": "bYgK9-OIX5bq",
        "colab": {
          "base_uri": "https://localhost:8080/"
        },
        "outputId": "e12c11c3-e76e-4be2-94cf-2036280415c5"
      },
      "execution_count": null,
      "outputs": [
        {
          "output_type": "stream",
          "name": "stdout",
          "text": [
            "Ingresa tu edad 5\n",
            "Sos menor\n"
          ]
        }
      ]
    },
    {
      "cell_type": "markdown",
      "source": [
        "###Ejercicio 2\n",
        "Haz una calculadora básica que permita realizar el cálculo de la hipotenusa de un triángulo, vigilando que ningún cateto debe ser menor o igual a cero. Si se diera el caso, imprimir «Error» por pantalla."
      ],
      "metadata": {
        "id": "cLiQq3kpXzRo"
      }
    },
    {
      "cell_type": "code",
      "source": [
        "a = int(input(\"Ingresa valor del cateto A \"))\n",
        "b = int(input(\"Ingresa valor del cateto B \"))\n",
        "c = (a ** 2) + (b ** 2)\n",
        "H = c ** (1/2)\n",
        "print(H)\n",
        "if a<=0:\n",
        "  print(\"Error\")\n",
        "elif b <=0:\n",
        "  print(\"error\")"
      ],
      "metadata": {
        "id": "TYdHxNzdX6Eq",
        "colab": {
          "base_uri": "https://localhost:8080/"
        },
        "outputId": "839babbc-c15f-4534-d9ed-e24b50fa234c"
      },
      "execution_count": null,
      "outputs": [
        {
          "output_type": "stream",
          "name": "stdout",
          "text": [
            "Ingresa valor del cateto A 2\n",
            "Ingresa valor del cateto B -1\n",
            "2.23606797749979\n",
            "error\n"
          ]
        }
      ]
    },
    {
      "cell_type": "markdown",
      "source": [
        "###Ejercicio 3\n",
        "Guarda una contraseña como password. Crea un sistema de seguridad donde el ordenador muestra un mensaje 'Ordenador bloqueado. Contraseña incorrecta.' si el usuario falla la contraseña. En caso contrario, que muestre por pantalla 'Bienvenid@...'."
      ],
      "metadata": {
        "id": "XXL2e4iGX1X_"
      }
    },
    {
      "cell_type": "code",
      "source": [
        "password = \"HolaGuada05%\"\n",
        "a = input(\"Ingresa contraseña \")\n",
        "if a==password:\n",
        "    print(\"Bienvenido\")\n",
        "else:\n",
        "    print(\"Ordenador bloqueado. Contraseña incorrecta.\")"
      ],
      "metadata": {
        "id": "umGjO_RTX6sN",
        "colab": {
          "base_uri": "https://localhost:8080/"
        },
        "outputId": "b9365d11-6de2-4e5c-cd72-5d06959927f5"
      },
      "execution_count": null,
      "outputs": [
        {
          "output_type": "stream",
          "name": "stdout",
          "text": [
            "Ingresa contraseña HolaGuada05%\n",
            "Bienvenido\n"
          ]
        }
      ]
    },
    {
      "cell_type": "markdown",
      "source": [
        "###Ejercicio 4\n",
        "Partiendo de la tarifa anual (que puede cambiar), nos piden que debemos calcular el precio de la tarifa de nuestro polideportivo, sabiendo las siguientes condiciones:\n",
        "\n",
        "Criterio 1: Si es mayor de edad y está trabajando -> Paga el 100%\n",
        "Criterio 2: Si es menor de edad y está trabajando -> Paga el 95%\n",
        "Criterio 3: Si es mayor de edad y no está trabajando -> Paga el 75%\n",
        "Criterio 4: Si es menor de edad y no está trabajando -> Paga el 50%"
      ],
      "metadata": {
        "id": "Gr5pnmN0X16Z"
      }
    },
    {
      "cell_type": "code",
      "source": [
        "def calcular_tarifa(edad, trabajando):\n",
        "    tarifa_anual = 1000\n",
        "\n",
        "    if edad >= 18:\n",
        "        if trabajando:\n",
        "            precio_tarifa = tarifa_anual * 1.0  # 100%\n",
        "        else:\n",
        "            precio_tarifa = tarifa_anual * 0.75  # 75%\n",
        "    else:\n",
        "        if trabajando:\n",
        "            precio_tarifa = tarifa_anual * 0.95  # 95%\n",
        "        else:\n",
        "            precio_tarifa = tarifa_anual * 0.5  # 50%\n",
        "\n",
        "    return precio_tarifa\n",
        "\n",
        "edad = int(input(\"Ingrese la edad: \"))\n",
        "trabajando = input(\"¿Está trabajando? (Si/No): \").lower() == \"si\"\n",
        "\n",
        "precio_final = calcular_tarifa(edad, trabajando)\n",
        "print(\"El precio de la tarifa es:\", precio_final)\n",
        "\n"
      ],
      "metadata": {
        "id": "vXvq7nXRX8tV",
        "colab": {
          "base_uri": "https://localhost:8080/"
        },
        "outputId": "e8539f69-03e8-4ac8-f9e1-45ebbb0f7369"
      },
      "execution_count": null,
      "outputs": [
        {
          "output_type": "stream",
          "name": "stdout",
          "text": [
            "Ingrese la edad: 20\n",
            "¿Está trabajando? (Si/No): si\n",
            "El precio de la tarifa es: 1000.0\n"
          ]
        }
      ]
    },
    {
      "cell_type": "markdown",
      "source": [
        "###Ejercicio 5\n",
        "La pizzería Bella Napoli ofrece pizzas vegetarianas y no vegetarianas a sus clientes.\n",
        "Los ingredientes para cada tipo de pizza aparecen a continuación.\n",
        "\n",
        "Ingredientes vegetarianos: Pimiento y tofu.\n",
        "Ingredientes no vegetarianos: Peperoni, Jamón y Salmón.\n",
        "\n",
        "Escribir un programa que pregunte al usuario si quiere una pizza vegetariana o no y en función de su respuesta le muestre un menú con los ingredientes disponibles para que elija.\n",
        "\n",
        "Solo se puede eligir un ingrediente además de la mozzarella y el tomate que están en todas la pizzas.\n",
        "\n",
        "Al final se debe mostrar por pantalla si la pizza elegida es vegetariana o no y todos los ingredientes que lleva."
      ],
      "metadata": {
        "id": "2A1NERYfX2Yy"
      }
    },
    {
      "cell_type": "code",
      "source": [
        "v= ['pimiento','tofu']\n",
        "c= ['peperoni', 'jamon', 'salmon']\n",
        "Pizza = input(\"¿Queres pizza vegetariana? (Si/No): \").lower() == \"si\"\n",
        "if Pizza:\n",
        "  print(\"Ingredientes para elegir: \")\n",
        "  print(v)\n",
        "else:\n",
        "  print(\"Ingredientes para elegir: \")\n",
        "  print(c)\n",
        "\n",
        "i= input(\"Que ingrediente le vas a agregar? \")\n",
        "if i == \"pimiento\":\n",
        "  print(\"Los ingredientes son tomate, mozzarella y pimiento\")\n",
        "\n",
        "if i == \"tofu\":\n",
        "  print(\"Los ingredientes son tomate, mozzarella y tofu\")\n",
        "\n",
        "if i == \"peperoni\":\n",
        "  print(\"Los ingredientes son tomate, mozzarella y peperoni\")\n",
        "\n",
        "if i == \"jamon\":\n",
        "  print(\"Los ingredientes son tomate, mozzarella y jamon\")\n",
        "\n",
        "if i == \"salmon\":\n",
        "  print(\"Los ingredientes son tomate, mozzarella y salmon\")"
      ],
      "metadata": {
        "id": "HniMWXhEX93i",
        "colab": {
          "base_uri": "https://localhost:8080/"
        },
        "outputId": "ac8e179a-0867-4f48-fc10-1f6c737c5e66"
      },
      "execution_count": null,
      "outputs": [
        {
          "output_type": "stream",
          "name": "stdout",
          "text": [
            "¿Queres pizza vegetariana? (Si/No): no\n",
            "Ingredientes para elegir: \n",
            "['peperoni', 'jamon', 'salmon']\n",
            "Que ingrediente le vas a agregar? jamon\n",
            "Los ingredientes son tomate, mozzarella y jamon\n"
          ]
        }
      ]
    },
    {
      "cell_type": "markdown",
      "source": [
        "##**For y While Python: Los bucles en programación**\n",
        "Los bucles son estructuras de control de Python que son muy útiles en situaciones de repetición. Veamos dos ejemplos:\n",
        "\n",
        "Imagina que estás en un combate Pokemon. Realmente, una vez se ha iniciado la batalla habrá un turno del atacante. Puede que seamos nosotros, puede que sea el contricante. Sin embargo, hasta que alguno de los dos muera no terminará el combate. Como ves, es una condición que no sabemos cuando va a darse pero lo tenemos identificado: utilizaremos while en estos casos.\n",
        "Por otra parte, tenemos el for. Se dice que si sabemos el número de veces en los que se repite un proceso se debe utilizar for. (el cálculo de un factorial es desde N = el número que sea hasta 1).\n",
        "Bucles for en Python\n",
        "Los bucles for y los bucles while en Python se utilizan para repetir operaciones, pero tienen algunas diferencias. Por ejemplo, los bucles for pueden iterar sobre una secuencia de elementos, como una lista o tupla, permitiéndote ejecutar una operación sobre cada elemento de la secuencia uno a uno.\n",
        "\n",
        "####Sintaxis for en Python\n",
        "\n",
        "\n",
        "```python\n",
        "cursos = [\"IA\", \"Big Data\", \"SQL\", \"Python\", \"SEO\"]\n",
        "for x in cursos:\n",
        "  print(x)\n",
        "```\n",
        "En cambio, los bucles while se utilizan para repetir una operación hasta que la condición especificada en su declaración sea falsa. Aunque la mayoría de las estructuras de bucle for y while en Python realizan la misma tarea básica, los bucles for utilizan conjuntos de datos con longitudes predeterminadas que les permiten completarse más rápidamente que un bucle while.\n",
        "\n",
        "Esto hace que los bucles for sean más adecuados para aplicaciones en las que el tamaño del conjunto de datos se conoce antes de comenzar la iteración y en las que cada elemento del conjunto debe leerse en orden.\n",
        "\n",
        "###Bucles While en Python\n",
        "Los bucles while son una herramienta de programación que puede utilizarse para ejecutar código durante un número específico de veces, o hasta que se cumpla una determinada condición. Los bucles While son especialmente útiles si se desconoce el número exacto de instancias en las que debe ejecutarse el bucle, ya que seguirá iterando hasta que se cumplan sus condiciones.\n",
        "\n",
        "Junto a las estructuras de control condicionales el control de bucles, FOR y WHILE, son las dos principales herramientas que tenemos para dirigir el programa.\n",
        "\n",
        "Un ejemplo habitual de su utilidad es la búsqueda de información en grandes conjuntos de datos, ya que el bucle se detendrá automáticamente al encontrar los datos deseados, ahorrando tiempo y recursos en el proceso.\n",
        "\n",
        "####Sintaxis While en Python\n",
        "\n",
        "\n",
        "```python\n",
        "i = 1\n",
        "print('Insertando Pin…')\n",
        "while i < 3:\n",
        "print('ERROR. Sigue intentando insertar el PIN… Tienes ',3 - i ,'intentos.')\n",
        "i += 1\n",
        "print('Has superado los 3 intentos. Llamando a @policia…')\n",
        "```\n",
        "\n"
      ],
      "metadata": {
        "id": "U_bOX5FXX8DU"
      }
    },
    {
      "cell_type": "markdown",
      "source": [
        "##**Ejercicios de Bucles For y While**"
      ],
      "metadata": {
        "id": "SEId0Cq_ZuHK"
      }
    },
    {
      "cell_type": "markdown",
      "source": [
        "Pista: Antes de ponerte a hacer los ejercicios, identifica el problema bien. Si es una condición dada, sera una estructura while. En caso de saber el número de iteraciones será for.\n",
        "\n",
        "Si quieres saber ques es while en python y como se utiliza nada como ponerte en marcha. La mejor manera será que juegues con los ejercicios de for y while en Python; de esa manera, aprenderás sus diferencias de manera experimental."
      ],
      "metadata": {
        "id": "lFOgbItsZzdh"
      }
    },
    {
      "cell_type": "markdown",
      "source": [
        "###Ejercicio 1\n",
        "Imprimir los números del 1 al 10.\n"
      ],
      "metadata": {
        "id": "R0pWVCQGZ5mU"
      }
    },
    {
      "cell_type": "code",
      "source": [
        "lista = []\n",
        "for i in range(1,11):\n",
        "  lista.append(i)\n",
        "print(lista)"
      ],
      "metadata": {
        "id": "MjLU6o_BYC4c",
        "colab": {
          "base_uri": "https://localhost:8080/"
        },
        "outputId": "61dcd596-9492-4fbf-bc96-54206b92d565"
      },
      "execution_count": null,
      "outputs": [
        {
          "output_type": "stream",
          "name": "stdout",
          "text": [
            "[1, 2, 3, 4, 5, 6, 7, 8, 9, 10]\n"
          ]
        }
      ]
    },
    {
      "cell_type": "markdown",
      "source": [
        "###Ejercicio 2\n",
        "Partiendo de una frase imprimir palabra por palabra y un contador de palabras totales."
      ],
      "metadata": {
        "id": "ZzINbKtgaJjV"
      }
    },
    {
      "cell_type": "code",
      "source": [
        "f= input(\"Escribi una frase: \")\n",
        "palabras = f.split()\n",
        "cont=0\n",
        "\n",
        "for i in palabras:\n",
        "  cont+=1\n",
        "print(cont)"
      ],
      "metadata": {
        "id": "K7GfzOp8aPdX",
        "colab": {
          "base_uri": "https://localhost:8080/"
        },
        "outputId": "867e3555-9d31-4ae4-b37e-ab8c574dd7d8"
      },
      "execution_count": null,
      "outputs": [
        {
          "output_type": "stream",
          "name": "stdout",
          "text": [
            "Escribi una frase: mi mama me mima\n",
            "4\n"
          ]
        }
      ]
    },
    {
      "cell_type": "markdown",
      "source": [
        "###Ejercicio 3\n",
        "Tenemos la pantalla del celu bloqueada. Partiendo de un PIN_SECRETO, intentaremos desbloquear la pantalla. Tenemos hasta 3 intentos. Simula el proceso con Python. En caso de acceder, lanza al usuario 'login correcto'. Sino, 'llamando al policía'."
      ],
      "metadata": {
        "id": "yCHT-1B5aOci"
      }
    },
    {
      "cell_type": "code",
      "source": [
        "i = 0\n",
        "pword = \"HolaGuada05%\"\n",
        "a = input(\"Ingresa contraseña \")\n",
        "if a == pword:\n",
        "  print(\"Bienvenido\")\n",
        "else:\n",
        "  while i != 3:\n",
        "    print('ERROR. Sigue intentando insertar el PIN… Tienes ',3 - i ,'intentos.')\n",
        "    a = input(\"Ingresa contraseña \")\n",
        "    if a == pword:\n",
        "      print(\"Bienvenido\")\n",
        "      break\n",
        "    else:\n",
        "      i+=1\n",
        "  print('Has superado los 3 intentos. Llamando a @policia…')"
      ],
      "metadata": {
        "id": "EaGeB91tarDr",
        "colab": {
          "base_uri": "https://localhost:8080/"
        },
        "outputId": "ab6c1d1b-51f1-48ed-bc8e-d4075ac32e9e"
      },
      "execution_count": null,
      "outputs": [
        {
          "output_type": "stream",
          "name": "stdout",
          "text": [
            "Ingresa contraseña 2\n",
            "ERROR. Sigue intentando insertar el PIN… Tienes  3 intentos.\n",
            "Ingresa contraseña 6\n",
            "ERROR. Sigue intentando insertar el PIN… Tienes  2 intentos.\n",
            "Ingresa contraseña 5\n",
            "ERROR. Sigue intentando insertar el PIN… Tienes  1 intentos.\n",
            "Ingresa contraseña 0\n",
            "Has superado los 3 intentos. Llamando a @policia…\n"
          ]
        }
      ]
    },
    {
      "cell_type": "markdown",
      "source": [
        "###Ejercicio 4\n",
        "Calcula la Hipotenusa. Para ello, pide al usuario que te de el valor de los catetos. Por seacaso, comprueba que los catetos son mayores a 0. Hasta que estos datos sean validados no calcular."
      ],
      "metadata": {
        "id": "NqcvYs2parho"
      }
    },
    {
      "cell_type": "code",
      "source": [
        "a = int(input(\"Ingresa valor del cateto A \"))\n",
        "b = int(input(\"Ingresa valor del cateto B \"))\n",
        "c = (a ** 2) + (b ** 2)\n",
        "H = c ** (1/2)\n",
        "while a <= 0 or b <= 0:\n",
        "   print(\"Ta Algo mal, fijate\")\n",
        "   a = int(input(\"Ingresa valor del cateto A \"))\n",
        "   b = int(input(\"Ingresa valor del cateto B \"))\n",
        "   if a > 0 or b > 0:\n",
        "      c = (a ** 2) + (b ** 2)\n",
        "      H = c ** (1/2)\n",
        "      print(H)\n",
        "      break\n",
        "   else:\n",
        "      print(\"Ta Algo mal, fijate\")\n",
        "      a = int(input(\"Ingresa valor del cateto A \"))\n",
        "      b = int(input(\"Ingresa valor del cateto B \"))\n"
      ],
      "metadata": {
        "id": "b5LT7AXLay0F"
      },
      "execution_count": null,
      "outputs": []
    },
    {
      "cell_type": "markdown",
      "source": [
        "###Ejercicio 5\n",
        "Vamos a diseñar una calculadora que se enciende y hasta que no tecleamos 'SAL' no se apaga.\n",
        "\n",
        "Esta calculadora funciona de la siguiente manera:\n",
        "\n",
        "Recogemos los datos A y B\n",
        "Si operación es 1 calcula la raíz cuadrada de la suma de A y B\n",
        "Si operación es 2 calcula A / B. Vigilamos que B no sea 0...\n",
        "Si la operación es 3 calculamos la siguiente fórmula: ( A * B ) / 2.5\n"
      ],
      "metadata": {
        "id": "4op3Lb4ia13-"
      }
    },
    {
      "cell_type": "code",
      "source": [
        "operacion = \" \"\n",
        "while operacion!=\"SAL\":\n",
        "  print(\"----------------------\")\n",
        "  print(\"Elija la operación\")\n",
        "  print(\"1.Calcula la raíz cuadrada de la suma de dos números\")\n",
        "  print(\"2.Calcula la división entre dos números\")\n",
        "  print(\"3.Calcula la fórmula ( A * B ) / 2.5\")\n",
        "\n",
        "  operacion = str(input(\"Ingrese el número de la operación que quiera realizar o SAL para salir: \"))\n",
        "  if operacion == \"SAL\":\n",
        "                    print(\"Calculadora apagada.\")\n",
        "                    break\n",
        "  else:\n",
        "      a = float(input(\"Ingrese el valor de A: \"))\n",
        "      b = float(input(\"Ingrese el valor de B: \"))\n",
        "\n",
        "      if operacion == \"1\":\n",
        "              res = (a+b)**0.5\n",
        "              print(f\"La raíz cuadrada de la suma de A y B es: {res}\")\n",
        "\n",
        "      elif operacion == \"2\":\n",
        "            if b != 0:\n",
        "              res = a / b\n",
        "              print(f\"El resultado de la división entre A y B es: {res}\")\n",
        "            else:\n",
        "              print(\"No se puede dividir por cero.\")\n",
        "      elif operacion == \"3\":\n",
        "            res = ( a * b ) / 2.5\n",
        "            print(f\"El resultado de la fórmula (A * B) / 2.5 es: {res}\")\n",
        "      else:\n",
        "            print(\"Operación no válida.\")"
      ],
      "metadata": {
        "id": "9_8eM9sVa-MB",
        "colab": {
          "base_uri": "https://localhost:8080/"
        },
        "outputId": "0a289a0a-1be0-4c63-ec66-c2f54d234bf0"
      },
      "execution_count": null,
      "outputs": [
        {
          "output_type": "stream",
          "name": "stdout",
          "text": [
            "----------------------\n",
            "Elija la operación\n",
            "1.Calcula la raíz cuadrada de la suma de dos números\n",
            "2.Calcula la división entre dos números\n",
            "3.Calcula la fórmula ( A * B ) / 2.5\n",
            "Ingrese el número de la operación que quiera realizar o SAL para salir: 1\n",
            "Ingrese el valor de A: 2\n",
            "Ingrese el valor de B: 2\n",
            "La raíz cuadrada de la suma de A y B es: 2.0\n",
            "----------------------\n",
            "Elija la operación\n",
            "1.Calcula la raíz cuadrada de la suma de dos números\n",
            "2.Calcula la división entre dos números\n",
            "3.Calcula la fórmula ( A * B ) / 2.5\n",
            "Ingrese el número de la operación que quiera realizar o SAL para salir: SAL\n",
            "Calculadora apagada.\n"
          ]
        }
      ]
    },
    {
      "cell_type": "markdown",
      "source": [
        "###Ejercicio 6\n",
        "Haz un motor de videojuegos para dos personajes (A y B). Funciona de la siguiente manera:\n",
        "\n",
        "Empieza el combate y se decide aleatoriamente quien empieza.\n",
        "Si ataca A restará su ataqueA a defensaB.\n",
        "Cambio de turno. Le toca a B. Realiza el ataque.\n",
        "Así hasta que alguno sea derrotado. (Recordar que cada personaje tiene un conteo de puntos de vida)\n"
      ],
      "metadata": {
        "id": "Bu2W99Aka-aV"
      }
    },
    {
      "cell_type": "code",
      "source": [
        "import random\n",
        "vida_a = 40\n",
        "vida_b = 40\n",
        "turno = random.randint(0,2)\n",
        "count = 0\n",
        "while vida_a > 0 or vida_b <=0:\n",
        "  if turno == 0:\n",
        "    ataque1 = random.randint(1,10)\n",
        "    vida_a -= ataque1\n",
        "    print(f\"Jugador a ataco al judaor b\")\n",
        "    print(f\"daño efecuado al jugador b: {ataque1}\")\n",
        "    count+=1\n",
        "    print(count)\n",
        "  if vida_b <= 0:\n",
        "    print(\"jugador a gana\")\n",
        "    break\n",
        "  else:\n",
        "    print(f\"jugador b tiene  {vida_b} puntos de salud\")\n",
        "\n",
        "  if turno == 1:\n",
        "    ataque2=random.randint(1,10)\n",
        "    vida_b -= ataque2\n",
        "    print(f\"Jugardor a ataco al judaor a\")\n",
        "    print(f\"daño efecuado al jugador a: {ataque2}\")\n",
        "  if vida_a<=0:\n",
        "    print(\"jugador b gana\")\n",
        "    break\n",
        "  else:\n",
        "    print(f\"jugador a tiene  {vida_b} puntos de salud\")\n"
      ],
      "metadata": {
        "id": "H9dHLo2XbLTi",
        "colab": {
          "base_uri": "https://localhost:8080/"
        },
        "outputId": "27fcf878-8e01-4ce0-96b2-520a44d736ed"
      },
      "execution_count": null,
      "outputs": [
        {
          "output_type": "stream",
          "name": "stdout",
          "text": [
            "Jugador a ataco al judaor b\n",
            "daño efecuado al jugador b: 8\n",
            "1\n",
            "jugador b tiene  40 puntos de salud\n",
            "jugador a tiene  40 puntos de salud\n",
            "Jugador a ataco al judaor b\n",
            "daño efecuado al jugador b: 10\n",
            "2\n",
            "jugador b tiene  40 puntos de salud\n",
            "jugador a tiene  40 puntos de salud\n",
            "Jugador a ataco al judaor b\n",
            "daño efecuado al jugador b: 5\n",
            "3\n",
            "jugador b tiene  40 puntos de salud\n",
            "jugador a tiene  40 puntos de salud\n",
            "Jugador a ataco al judaor b\n",
            "daño efecuado al jugador b: 5\n",
            "4\n",
            "jugador b tiene  40 puntos de salud\n",
            "jugador a tiene  40 puntos de salud\n",
            "Jugador a ataco al judaor b\n",
            "daño efecuado al jugador b: 10\n",
            "5\n",
            "jugador b tiene  40 puntos de salud\n",
            "jugador a tiene  40 puntos de salud\n",
            "Jugador a ataco al judaor b\n",
            "daño efecuado al jugador b: 10\n",
            "6\n",
            "jugador b tiene  40 puntos de salud\n",
            "jugador b gana\n"
          ]
        }
      ]
    },
    {
      "cell_type": "markdown",
      "source": [
        "##**Listas en Python**\n",
        "###¿Qué es una Lista?\n",
        "Una lista en Python es una colección ordenada de valores de datos a la que se puede acceder utilizando índices numéricos. Este tipo de datos son versátiles y pueden contener cualquier combinación de datos, como cadenas, flotantes, enteros ¡e incluso otras listas! Nos permiten organizar nuestros datos de forma útil, permitiéndonos acceder fácilmente a los elementos de uno en uno o por trozos. Además, pueden utilizarse dentro de funciones para crear programas más potentes. Dominar las listas es clave para un correcto desarrollo de aplicaciones.\n",
        "\n",
        "En general, una lista es una colección de elementos que forman un grupo unido. En detalle, las listas tienen las siguientes características:\n",
        "\n",
        "* Las listas en Python una lista se inicializa así: miLista = [valor1, valor2, ... , valorn]\n",
        "* Una lista en programación es modificable y puede cambiar a lo largo del tiempo\n",
        "* El primer elemento empieza en la posición 0. Para el primer valor se consulta así: miLista[0]\n",
        "* Funciones Básicas de Listas en Python: métodos disponibles\n",
        "###Listas Anidadas en Python\n",
        "Existe la posibilidad de colocar una lista dentro de otra lista, de hecho, se parece a una matriz. Fíjate, crearemos un elemento de lista y después colocaremos otra lista para consultar sobre ella:\n",
        "\n",
        "\n",
        "```python\n",
        "lista = [ 1, 2, [3, 4] ]\n",
        "print( lista[-1][0] )\n",
        "```\n",
        "###Tupla vs Listas en Python y Programación\n",
        "En programación muy habitualmente necesimatos de un número de variables de elementos que queremos agrupar para resolver un problema o transformar los datos. La diferencia de las listas y las tuplas principalmente se basan en la capacidad de modificación de alguno de los elementos de la colección.\n",
        "\n",
        "En primer lugar, el orden de los elementos almacenados en una lista puede modificarse, lo que no ocurre con las tuplas. En segundo lugar, mientras que las tuplas son inmutables y, por tanto, sólo pueden almacenar conjuntos estáticos de datos, las listas son dinámicas y pueden contener múltiples tipos de objetos, como números, cadenas e incluso otras colecciones como diccionarios.\n",
        "\n",
        "¿Cuando utilizar las Listas en Python?\n",
        "* Si buscas almacenar datos en tu programa donde los valores se modifican.\n",
        "* Si eliminas o añadirás alguno de los elementos.\n",
        "¿Cuando cuando utilizar Tuplas en Python?\n",
        "* Cuando los elementos de la colección son fijos y no pueden cambiar para resolver el reto en tu programa. A esta propiedad se le llama inmutabilidad.\n",
        "* Cuando buscas proteger los elementos y categorías si son muy relevantes dentro de tu aplicación\n",
        "\n",
        "No olvides ver el libro de la bibliografia de la materia para aprender mas sobre funciones de listas para poder continuar aprendiendo como manipularlas, y dicho sea de paso, será necesario contar con el libro desde este punto para realizar los ejercicios.\n"
      ],
      "metadata": {
        "id": "KI8FS2pfbLj-"
      }
    },
    {
      "cell_type": "markdown",
      "source": [
        "###Ejercicio 1\n",
        "Realiza el Ejercicio 10 de los bucles (sistema de turnos de un videojuego). Utiliza ese mismo código y define los ataque y defensa de los personajes dentro de una lista, por personaje.\n"
      ],
      "metadata": {
        "id": "ohbuIRyMcqcJ"
      }
    },
    {
      "cell_type": "code",
      "source": [
        "import random\n",
        "\n",
        "# Definir los ataques y defensas de los personajes\n",
        "personaje_a = [random.randint(1, 10), random.randint(1, 5)]\n",
        "personaje_b = [random.randint(1, 10), random.randint(1, 5)]\n",
        "\n",
        "# Definir las vidas iniciales de los jugadores\n",
        "vida_a = 40\n",
        "vida_b = 40\n",
        "\n",
        "# Elegir al azar quién comienza\n",
        "turno = random.randint(0, 1)\n",
        "\n",
        "# Contador de turnos\n",
        "count = 0\n",
        "\n",
        "# Bucle principal del juego\n",
        "while vida_a > 0 and vida_b > 0:\n",
        "    if turno == 0:\n",
        "        # Ataque del Jugador A\n",
        "        ataque = personaje_a[0]\n",
        "        defensa = personaje_b[1]\n",
        "        danio_efectuado = max(0, ataque - defensa)\n",
        "        vida_b -= danio_efectuado\n",
        "        print(f\"Jugador A atacó al Jugador B\")\n",
        "        print(f\"Daño efectuado al Jugador B: {danio_efectuado}\")\n",
        "        count += 1\n",
        "        print(f\"Cantidad de turnos: {count}\")\n",
        "    else:\n",
        "        # Ataque del Jugador B\n",
        "        ataque = personaje_b[0]\n",
        "        defensa = personaje_a[1]\n",
        "        danio_efectuado = max(0, ataque - defensa)\n",
        "        vida_a -= danio_efectuado\n",
        "        print(f\"Jugador B atacó al Jugador A\")\n",
        "        print(f\"Daño efectuado al Jugador A: {danio_efectuado}\")\n",
        "\n",
        "    if vida_b <= 0:\n",
        "        print(\"Jugador A gana\")\n",
        "        break\n",
        "\n",
        "    if vida_a <= 0:\n",
        "        print(\"Jugador B gana\")\n",
        "        break\n",
        "\n",
        "    # Alternar turno\n",
        "    turno = (turno + 1) % 2\n"
      ],
      "metadata": {
        "id": "M2AmTV5XcwRO"
      },
      "execution_count": null,
      "outputs": []
    },
    {
      "cell_type": "markdown",
      "source": [
        "\n",
        "###Ejercicio 2\n",
        "Pedir la puntuación media de las personas para cada asignatura de un curso a partir de un número de personas. Deberás iniciar los cursos para después añadir el número de alumnos y pedir las puntuaciones media. Ejemplo del programa resultado:\n",
        "\n",
        "Insertar la lista de los nombres de las asignaturas del instituto BigBayData.com\n",
        "\n",
        "El usuario introduce: Python,SQL,Hadoop,Js,Html,Css,Swift\n",
        "\n",
        "Genial. Ahora introduce las puntuaciones uno por uno en Python:\n",
        "\n",
        "Introducimos las puntuaciones de los alumnos por cada alumno para cada curso.\n",
        "\n",
        "Resultado de las evaluaciones este año:\n",
        "\n",
        "[Python, 12 alumnos. Nota media: 7.6, Suspensos: 2]\n",
        "\n",
        "[SQL, 12 alumnos. Nota media: 6.9, Suspensos: 1]"
      ],
      "metadata": {
        "id": "AifjBiHPcwgT"
      }
    },
    {
      "cell_type": "code",
      "source": [
        "a = []\n",
        "clases = int(input(\"Ingrese la cantidad de clases: \"))\n",
        "\n",
        "for i in range(clases):\n",
        "    clase = input(f\"Ingrese el nombre de la clase {i+1}: \")\n",
        "    alumnos = int(input(f\"Ingrese la cantidad de alumnos para la clase {clase}: \"))\n",
        "\n",
        "    notas = []\n",
        "\n",
        "    for j in range(alumnos):\n",
        "        while True:\n",
        "            nota = float(input(f\"Ingrese la nota del alumno: \"))\n",
        "            if 0 <= nota <= 10:\n",
        "                notas.append(nota)\n",
        "                break\n",
        "            else:\n",
        "                print(\"La nota debe estar en el rango de 0 a 10. Inténtelo de nuevo.\")\n",
        "\n",
        "    promedio =  sum(notas)/len(notas)\n",
        "    suspendidos = sum(1 for nota in notas if nota < 6)\n",
        "\n",
        "    datos = [clase, alumnos, promedio, suspendidos]\n",
        "    a.append(datos)\n",
        "\n",
        "print(\"\")\n",
        "print(\"Resultados:\")\n",
        "for dato in a:\n",
        "    print(f\"{dato[0]}, alumnos: {dato[1]}, Nota media: {dato[2]}, suspendidos: {dato[3]}\")"
      ],
      "metadata": {
        "id": "H0scBzrvc2s1",
        "colab": {
          "base_uri": "https://localhost:8080/"
        },
        "outputId": "ce8ea8e7-0db5-46dc-b0e3-9f1d6353545f"
      },
      "execution_count": 17,
      "outputs": [
        {
          "output_type": "stream",
          "name": "stdout",
          "text": [
            "Ingrese la cantidad de clases: 3\n",
            "Ingrese el nombre de la clase 1: ingles\n",
            "Ingrese la cantidad de alumnos para la clase ingles: 2\n",
            "Ingrese la nota del alumno: 8\n",
            "Ingrese la nota del alumno: 6\n",
            "Ingrese el nombre de la clase 2: matematica\n",
            "Ingrese la cantidad de alumnos para la clase matematica: 5\n",
            "Ingrese la nota del alumno: 3\n",
            "Ingrese la nota del alumno: 10\n",
            "Ingrese la nota del alumno: 7\n",
            "Ingrese la nota del alumno: 8\n",
            "Ingrese la nota del alumno: 5\n",
            "Ingrese el nombre de la clase 3: lengua\n",
            "Ingrese la cantidad de alumnos para la clase lengua: 4\n",
            "Ingrese la nota del alumno: 9\n",
            "Ingrese la nota del alumno: 6\n",
            "Ingrese la nota del alumno: 7\n",
            "Ingrese la nota del alumno: 2\n",
            "\n",
            "Resultados:\n",
            "ingles, alumnos: 2, Nota media: 7.0, suspendidos: 0\n",
            "matematica, alumnos: 5, Nota media: 6.6, suspendidos: 2\n",
            "lengua, alumnos: 4, Nota media: 6.0, suspendidos: 1\n"
          ]
        }
      ]
    },
    {
      "cell_type": "markdown",
      "source": [
        "###Ejercicio 3\n",
        "Imagina un sistema de nombres donde queremos identificar el nombre más común. Para ello primero pide al usuario que inserte nombres. Utiliza la estructura do-while.\n",
        "\n",
        "Introduce los nombres... (-1 para terminar)\n",
        "\n",
        "carmen,julia,juan,carmen,carmen,julia\n",
        "carmen: 3,julia: 2,juan: 1\n",
        "\n"
      ],
      "metadata": {
        "id": "h4evQIqRcwzT"
      }
    },
    {
      "cell_type": "code",
      "source": [
        "lista = []\n",
        "conteos = []\n",
        "entrada = \"\"\n",
        "while entrada != \"-1\":\n",
        "  entrada = str(input(\"Nombres o Salir? (-1 para salir)\"))\n",
        "  if entrada==\"-1\":\n",
        "    continue\n",
        "  else:\n",
        "    lista.append(entrada)\n",
        "\n",
        "for i in lista:\n",
        "  if i in conteos:\n",
        "    continue\n",
        "  else:\n",
        "    conteos.append(i)\n",
        "    print(i)\n",
        "    print(lista.count(i))"
      ],
      "metadata": {
        "id": "_ZHoRtY8dEKu",
        "colab": {
          "base_uri": "https://localhost:8080/"
        },
        "outputId": "3af97cbb-9463-4cd8-b2c0-ef2c51674b49"
      },
      "execution_count": null,
      "outputs": [
        {
          "output_type": "stream",
          "name": "stdout",
          "text": [
            "Nombres o Salir? (-1 para salir)carmen\n",
            "Nombres o Salir? (-1 para salir)julia\n",
            "Nombres o Salir? (-1 para salir)juan\n",
            "Nombres o Salir? (-1 para salir)carmen\n",
            "Nombres o Salir? (-1 para salir)mateo\n",
            "Nombres o Salir? (-1 para salir)mateo\n",
            "Nombres o Salir? (-1 para salir)mateo\n",
            "Nombres o Salir? (-1 para salir)juan\n",
            "Nombres o Salir? (-1 para salir)carmen\n",
            "Nombres o Salir? (-1 para salir)-1\n",
            "carmen\n",
            "3\n",
            "julia\n",
            "1\n",
            "juan\n",
            "2\n",
            "mateo\n",
            "3\n"
          ]
        }
      ]
    },
    {
      "cell_type": "markdown",
      "source": [
        "###Ejercicio 4\n",
        "Utiliza el ejercicio anterior y modifícalo para, una vez se añaden los usuarios, se eliminen los duplicados.\n"
      ],
      "metadata": {
        "id": "zATK3b5cdEZk"
      }
    },
    {
      "cell_type": "code",
      "source": [
        "lista = []\n",
        "conteos = []\n",
        "entrada = \"\"\n",
        "while entrada != \"-1\":\n",
        "  entrada = str(input(\"Nombres o Salir? (-1 para salir)\"))\n",
        "  if entrada==\"-1\":\n",
        "    continue\n",
        "  else:\n",
        "    lista.append(entrada)\n",
        "\n",
        "for i in lista:\n",
        "  if i in conteos:\n",
        "    continue\n",
        "  else:\n",
        "    conteos.append(i)\n",
        "    print(i)\n",
        "    print(lista.count(i))\n",
        "\n",
        "nombres_sin_duplicados = list(set(lista))\n",
        "\n",
        "print(\"Nombres originales:\", lista)\n",
        "print(\"Nombres sin duplicados:\", nombres_sin_duplicados)\n",
        "\n"
      ],
      "metadata": {
        "id": "sHvDQyj2dHpk",
        "colab": {
          "base_uri": "https://localhost:8080/"
        },
        "outputId": "3ee04890-5487-4ae3-ca74-3c5fe362090a"
      },
      "execution_count": 7,
      "outputs": [
        {
          "output_type": "stream",
          "name": "stdout",
          "text": [
            "Nombres o Salir? (-1 para salir)guada\n",
            "Nombres o Salir? (-1 para salir)mia\n",
            "Nombres o Salir? (-1 para salir)mia\n",
            "Nombres o Salir? (-1 para salir)mia\n",
            "Nombres o Salir? (-1 para salir)juan\n",
            "Nombres o Salir? (-1 para salir)mateo\n",
            "Nombres o Salir? (-1 para salir)juan\n",
            "Nombres o Salir? (-1 para salir)-1\n",
            "guada\n",
            "1\n",
            "mia\n",
            "3\n",
            "juan\n",
            "2\n",
            "mateo\n",
            "1\n",
            "Nombres originales: ['guada', 'mia', 'mia', 'mia', 'juan', 'mateo', 'juan']\n",
            "Nombres sin duplicados: ['guada', 'mia', 'juan', 'mateo']\n"
          ]
        }
      ]
    },
    {
      "cell_type": "markdown",
      "source": [
        "###Ejercicio 5\n",
        "Calcular la tabla de multiplicar de los 20 primeros números dado un número. La lista, según su posición, almacenará el resultado de la multiplicación.\n",
        "\n",
        "\n"
      ],
      "metadata": {
        "id": "6o2YqmI5dH34"
      }
    },
    {
      "cell_type": "code",
      "source": [
        "lista = []\n",
        "numero = int(input(\"Ingresa un número para ver su tabla de multiplicar: \"))\n",
        "print(f\"Tabla de multiplicar del {numero}:\")\n",
        "for i in range(1, 21):\n",
        "    tabla = numero * i\n",
        "    lista.append(tabla)\n",
        "print(lista)"
      ],
      "metadata": {
        "id": "88qxyi90dPes",
        "colab": {
          "base_uri": "https://localhost:8080/"
        },
        "outputId": "c67f2679-c85e-48fd-c808-ba6ee3f70f50"
      },
      "execution_count": null,
      "outputs": [
        {
          "output_type": "stream",
          "name": "stdout",
          "text": [
            "Ingresa un número para ver su tabla de multiplicar: 5\n",
            "Tabla de multiplicar del 5:\n",
            "[5, 10, 15, 20, 25, 30, 35, 40, 45, 50, 55, 60, 65, 70, 75, 80, 85, 90, 95, 100]\n"
          ]
        }
      ]
    },
    {
      "cell_type": "markdown",
      "source": [
        "###Ejercicio 6\n",
        "Haz un programa que inicialice una lista con los primeros 10 números primos. Después, ordenalos de mayor a menor.\n",
        "\n"
      ],
      "metadata": {
        "id": "zXvt_C_3dPtB"
      }
    },
    {
      "cell_type": "code",
      "source": [
        "numPrimos = [2, 3, 5, 7, 11, 13, 17, 19, 23, 29]\n",
        "numPrimos.reverse()\n",
        "print(numPrimos)"
      ],
      "metadata": {
        "id": "ntsrfBVidSGF",
        "colab": {
          "base_uri": "https://localhost:8080/"
        },
        "outputId": "e5e5d707-7fc6-44d3-ce87-2c2342b0f22b"
      },
      "execution_count": null,
      "outputs": [
        {
          "output_type": "stream",
          "name": "stdout",
          "text": [
            "[29, 23, 19, 17, 13, 11, 7, 5, 3, 2]\n"
          ]
        }
      ]
    },
    {
      "cell_type": "markdown",
      "source": [
        "Ejercicio 7\n",
        "Simula una cesta de la compra. Después, una vez tengas la lista de la compra, elimina el último elemento. Después, invierte los elementos de la lista y muestra qué queda de resultado.\n",
        "\n",
        "Pista: Utiliza la función pop()"
      ],
      "metadata": {
        "id": "dXJgynuNdSaJ"
      }
    },
    {
      "cell_type": "code",
      "source": [
        "compra = [\"Manzana\",\"leche\", \"huevo\", \"palta\"]\n",
        "print(\"Tu cesta de la compra:\")\n",
        "for producto in compra:\n",
        "    print(producto)\n",
        "\n",
        "#eliminar el ultimo elemento de la lista\n",
        "compra.pop()\n",
        "print(compra)\n",
        "\n",
        "#Invertir los elementos de la lista\n",
        "compra.reverse()\n",
        "print(compra)"
      ],
      "metadata": {
        "id": "aAsU6L20dU5u",
        "colab": {
          "base_uri": "https://localhost:8080/"
        },
        "outputId": "b5421479-6399-4173-d8fa-072d0acd5375"
      },
      "execution_count": 12,
      "outputs": [
        {
          "output_type": "stream",
          "name": "stdout",
          "text": [
            "Tu cesta de la compra:\n",
            "Manzana\n",
            "leche\n",
            "huevo\n",
            "palta\n",
            "['Manzana', 'leche', 'huevo']\n",
            "['huevo', 'leche', 'Manzana']\n"
          ]
        }
      ]
    },
    {
      "cell_type": "markdown",
      "source": [
        "Ejercicio 8\n",
        "Añade las estadísticas de los primeros 10 pokemon en nuestra pokedex. Fíjate qué estadísticas quieres para todos los pokemon. Aquí algunas sugerencias: nombre, ataque, hp, defensa, velocidad, at_Esp, def_Esp\n",
        "\n",
        "Después, utiliza la lista como una pokedex para consultarlo."
      ],
      "metadata": {
        "id": "fuD1ZJsidVSt"
      }
    },
    {
      "cell_type": "code",
      "source": [
        "b = int(input(\"Introduce el numero del pokemon que quieras de Bulbasaur=0, Pikachu=1,Eevee=2, Charmander=3, Rattata=4,Charizard=5, Squirtle=6,Wartortle=7, Blastoise=8, Caterpie=9: \"))\n",
        "A = [[\"Bulbasur\", \"Pikachu\", \"Eevee\", \"Charmander\", \"Rattata\", \"Charizard\", \"Squirtle\", \"Wartortle\", \"Blastoise\", \"Caterpie\"],\n",
        " #Ataque\n",
        " [49,62,82,52,64,84,48,63,83,30],\n",
        "\n",
        " #HP\n",
        " [45,60,80,39,58,78,44,59,79,45],\n",
        "\n",
        " #Defensa\n",
        " [49,63,83,43,58,78,65,80,100,35],\n",
        "\n",
        " #Velocidad\n",
        " [45,60,80,65,80,100,43,58,78,45],\n",
        "\n",
        " #Ataque Especial\n",
        " [65,80,100,60,80,109,50,65,85,20],\n",
        "\n",
        " #Defensa Especial\n",
        " [65,80,100,50,65,85,64,80,105,20]\n",
        "     ]\n",
        "print(f\"Estadisticas de {A[0][b]}\")\n",
        "print(f\"Ataque: {A[1][b]}\")\n",
        "print(f\"HP: {A[2][b]}\")\n",
        "print(f\"Defensa: {A[3][b]}\")\n",
        "print(f\"Velocidad: {A[1][b]}\")\n",
        "print(f\"Ataque Especial: {A[1][b]}\")\n",
        "print(f\"Defensa Especial: {A[3][b]}\")"
      ],
      "metadata": {
        "id": "mJJ8klWEdYOJ",
        "colab": {
          "base_uri": "https://localhost:8080/"
        },
        "outputId": "ca0a662b-8605-4fd1-f940-98a7b09daddc"
      },
      "execution_count": 13,
      "outputs": [
        {
          "output_type": "stream",
          "name": "stdout",
          "text": [
            "Introduce el numero del pokemon que quieras de Bulbasaur=0, Pikachu=1,Eevee=2, Charmander=3, Rattata=4,Charizard=5, Squirtle=6,Wartortle=7, Blastoise=8, Caterpie=9: 2\n",
            "Estadisticas de Eevee\n",
            "Ataque: 82\n",
            "HP: 80\n",
            "Defensa: 83\n",
            "Velocidad: 82\n",
            "Ataque Especial: 82\n",
            "Defensa Especial: 83\n"
          ]
        }
      ]
    },
    {
      "cell_type": "markdown",
      "source": [
        "###Ejercicio 9\n",
        "Imagina construir un sistema de planning de vuelos de un aeropuerto cercano. Crea una planificación donde dentro contiene, por día de la semana, horario, compañia, duracion_estimada, tipo_avion. Utiliza una lista dentro de otra lista.\n",
        "\n",
        "PD: Después de llenar los datos necesitarás ofrecer al usuario ver la información.\n"
      ],
      "metadata": {
        "id": "H-Pwtr4ndYce"
      }
    },
    {
      "cell_type": "code",
      "source": [
        "# Crear una lista para almacenar la planificación de vuelos\n",
        "planificacion_vuelos = [\n",
        "    # Lunes\n",
        "    [\n",
        "        (\"08:00\", \"Aerolíneas Argentinas\", \"2 horas\", \"Boeing 737\"),\n",
        "        (\"12:00\", \"LATAM Argentina\", \"3 horas\", \"Airbus A320\"),\n",
        "    ],\n",
        "    # Martes\n",
        "    [\n",
        "        (\"10:00\", \"Flybondi\", \"2.5 horas\", \"Boeing 777\"),\n",
        "        (\"14:00\", \"Aerolíneas Argentinas\", \"2 horas\", \"Boeing 737\"),\n",
        "    ],\n",
        "    # Miércoles\n",
        "    [\n",
        "        (\"09:30\", \"LATAM Argentina\", \"2 horas\", \"Airbus A320\"),\n",
        "        (\"13:30\", \"Flybondi\", \"2.5 horas\", \"Boeing 737\"),\n",
        "    ],\n",
        "    # Jueves\n",
        "    [\n",
        "        (\"11:00\", \"Aerolíneas Argentinas\", \"2 horas\", \"Airbus A320\"),\n",
        "        (\"15:00\", \"LATAM Argentina\", \"3 horas\", \"Boeing 777\"),\n",
        "    ],\n",
        "    # Viernes\n",
        "    [\n",
        "        (\"08:30\", \"Flybondi\", \"3 horas\", \"Boeing 777\"),\n",
        "        (\"12:30\", \"Aerolíneas Argentinas\", \"2 horas\", \"Airbus A320\"),\n",
        "    ]\n",
        "]\n",
        "\n",
        "# Función para mostrar la planificación de vuelos\n",
        "def mostrar_planificacion():\n",
        "    print(\"Planificación de vuelos por día de la semana:\")\n",
        "    dias_semana = [\"Lunes\", \"Martes\", \"Miércoles\", \"Jueves\", \"Viernes\"]\n",
        "    for i, vuelos in enumerate(planificacion_vuelos):\n",
        "        print(f\"\\n{dias_semana[i]}:\")\n",
        "        for vuelo in vuelos:\n",
        "            print(f\"Horario: {vuelo[0]}, Compañía: {vuelo[1]}, Duración estimada: {vuelo[2]}, Tipo de avión: {vuelo[3]}\")\n",
        "\n",
        "nombre = input(\"Ingrese su nombre: \")\n",
        "apellido = input(\"Ingrese su apellido: \")\n",
        "dni = input(\"Ingrese su DNI: \")\n",
        "email = input(\"Ingrese su correo electrónico: \")\n",
        "\n",
        "# Preguntar al usuario si desea ver la información de los vuelos\n",
        "respuesta = input(\"¿Desea ver la información de los vuelos? (si/no): \")\n",
        "if respuesta.lower() == \"si\":\n",
        "  # Mostrar la planificación de vuelos al usuario\n",
        "  mostrar_planificacion()\n",
        "else:\n",
        "    print(\"Gracias por usar nuestro servicio.\")\n"
      ],
      "metadata": {
        "id": "gDA1toB8dcqr",
        "colab": {
          "base_uri": "https://localhost:8080/"
        },
        "outputId": "1d096df7-86fa-480f-cf44-47189aab39ac"
      },
      "execution_count": 19,
      "outputs": [
        {
          "output_type": "stream",
          "name": "stdout",
          "text": [
            "Ingrese su nombre: Guadalupe\n",
            "Ingrese su apellido: Gallardo\n",
            "Ingrese su DNI: 46709902\n",
            "Ingrese su correo electrónico: guadacole06@gmail.com\n",
            "¿Desea ver la información de los vuelos? (si/no): si\n",
            "Planificación de vuelos por día de la semana:\n",
            "\n",
            "Lunes:\n",
            "Horario: 08:00, Compañía: Aerolíneas Argentinas, Duración estimada: 2 horas, Tipo de avión: Boeing 737\n",
            "Horario: 12:00, Compañía: LATAM Argentina, Duración estimada: 3 horas, Tipo de avión: Airbus A320\n",
            "\n",
            "Martes:\n",
            "Horario: 10:00, Compañía: Flybondi, Duración estimada: 2.5 horas, Tipo de avión: Boeing 777\n",
            "Horario: 14:00, Compañía: Aerolíneas Argentinas, Duración estimada: 2 horas, Tipo de avión: Boeing 737\n",
            "\n",
            "Miércoles:\n",
            "Horario: 09:30, Compañía: LATAM Argentina, Duración estimada: 2 horas, Tipo de avión: Airbus A320\n",
            "Horario: 13:30, Compañía: Flybondi, Duración estimada: 2.5 horas, Tipo de avión: Boeing 737\n",
            "\n",
            "Jueves:\n",
            "Horario: 11:00, Compañía: Aerolíneas Argentinas, Duración estimada: 2 horas, Tipo de avión: Airbus A320\n",
            "Horario: 15:00, Compañía: LATAM Argentina, Duración estimada: 3 horas, Tipo de avión: Boeing 777\n",
            "\n",
            "Viernes:\n",
            "Horario: 08:30, Compañía: Flybondi, Duración estimada: 3 horas, Tipo de avión: Boeing 777\n",
            "Horario: 12:30, Compañía: Aerolíneas Argentinas, Duración estimada: 2 horas, Tipo de avión: Airbus A320\n"
          ]
        }
      ]
    },
    {
      "cell_type": "markdown",
      "source": [
        "###Ejercicio 10\n",
        "Haz un sistema de ordenamiento de ayudas para tu comunidad. La idea es que insertes todos los emails que quieras para, aleatoriamente, ofrecer N ayudas. El objetivo es tener un sistema justo de ayudas para repartir entre la ciudadanía que se postula. Una vez lo tengas, desarrolla un sistema de envío automático por correo."
      ],
      "metadata": {
        "id": "ysUskJRudc6T"
      }
    },
    {
      "cell_type": "code",
      "source": [
        "import random\n",
        "import smtplib\n",
        "from email.mime.text import MIMEText\n",
        "from email.mime.multipart import MIMEMultipart\n",
        "\n",
        "# Lista de correos electrónicos de los ciudadanos que se postulan para recibir ayuda\n",
        "correos_electronicos = [\n",
        "    \"ejemplo1@example.com\",\n",
        "    \"ejemplo2@example.com\",\n",
        "    \"ejemplo3@example.com\",\n",
        "    \"ejemplo4@example.com\",\n",
        "    # Agrega más correos electrónicos según sea necesario\n",
        "]\n",
        "\n",
        "# Número de ayudas que se ofrecerán\n",
        "numero_ayudas_ofrecidas = 3\n",
        "\n",
        "# Selección aleatoria de destinatarios para recibir las ayudas\n",
        "destinatarios_seleccionados = random.sample(correos_electronicos, numero_ayudas_ofrecidas)\n",
        "\n",
        "# Configuración del servidor SMTP para enviar correos electrónicos\n",
        "smtp_host = \"smtp.gmail.com\"  # Cambia esto según el servidor SMTP que utilices\n",
        "smtp_port = 587  # Puerto SMTP para Gmail\n",
        "usuario_smtp = \"tudirecciondecorreo@gmail.com\"  # Cambia esto por tu dirección de correo\n",
        "contrasena_smtp = \"tucontraseñadecorreo\"  # Cambia esto por tu contraseña de correo\n",
        "\n",
        "# Envío de correos electrónicos a los destinatarios seleccionados\n",
        "with smtplib.SMTP(smtp_host, smtp_port) as servidor_smtp:\n",
        "    servidor_smtp.starttls()\n",
        "    servidor_smtp.login(usuario_smtp, contrasena_smtp)\n",
        "    for destinatario in destinatarios_seleccionados:\n",
        "        mensaje = MIMEMultipart()\n",
        "        mensaje[\"From\"] = usuario_smtp\n",
        "        mensaje[\"To\"] = destinatario\n",
        "        mensaje[\"Subject\"] = \"Notificación de ayuda comunitaria\"\n",
        "        cuerpo_mensaje = \"\"\"\n",
        "        Estimado/a,\n",
        "\n",
        "        Nos complace informarle que ha sido seleccionado/a para recibir una ayuda comunitaria.\n",
        "\n",
        "        Atentamente,\n",
        "        Tu comunidad\n",
        "        \"\"\"\n",
        "        mensaje.attach(MIMEText(cuerpo_mensaje, \"plain\"))\n",
        "        servidor_smtp.sendmail(usuario_smtp, destinatario, mensaje.as_string())\n",
        "\n",
        "print(f\"Se han enviado correos electrónicos a {numero_ayudas_ofrecidas} destinatarios seleccionados.\")\n"
      ],
      "metadata": {
        "id": "nP3O5lpidp2a"
      },
      "execution_count": null,
      "outputs": []
    },
    {
      "cell_type": "markdown",
      "source": [
        "##FAQs sobre listas\n",
        "**¿Qué son las listas Python?**\n",
        "Son colecciones modificables, muy útiles para agrupar elementos que cambian a lo largo del tiempo.\n",
        "\n",
        "**¿Cómo hacer una lista en Python?**\n",
        "miNuevaLista = [ ‘aaa’, 1, 3.2, False ] #Corchetes\n",
        "\n",
        "**¿Qué es y para qué sirve una lista en Python?**\n",
        "Es como un vagón de trenes para que utilices el tren como almacén de datos en el programa.\n",
        "\n",
        "**¿Cómo crear una lista del 1 al 10 en Python?**\n",
        "x = list(range(0,10))\n",
        "\n",
        "**¿Cómo se crea una lista vacía en Python?**\n",
        "miNuevaListaVacia = [ ] #Corchetes"
      ],
      "metadata": {
        "id": "Vi4JH_VHdqKt"
      }
    }
  ]
}